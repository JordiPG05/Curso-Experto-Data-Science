{
 "cells": [
  {
   "cell_type": "markdown",
   "metadata": {},
   "source": [
    "# Capas Densas"
   ]
  },
  {
   "cell_type": "markdown",
   "metadata": {},
   "source": [
    "La capa densa, también conocida como capa completamente conectada (fully connected), es una de las capas más fundamentales y ampliamente utilizadas en redes neuronales.\n",
    "\n",
    "En una capa densa, cada neurona está conectada a todas las neuronas de la capa anterior, lo que permite que la red aprenda representaciones complejas de los datos."
   ]
  },
  {
   "cell_type": "markdown",
   "metadata": {},
   "source": [
    "### ¿Qué hace la capa densa?"
   ]
  },
  {
   "cell_type": "markdown",
   "metadata": {},
   "source": [
    "Una capa densa realiza una transformación lineal sobre la entrada seguida generalmente de una función de activación. Matemáticamente, la transformación que realiza una capa densa puede ser expresada como:\n",
    "\n",
    "𝑦=𝑓(𝑊𝑥+𝑏)\n",
    "\n",
    "donde:\n",
    "- 𝑥 es el vector de entrada.\n",
    "- 𝑊 es la matriz de pesos.\n",
    "- 𝑏 es el vector de sesgo (bias).\n",
    "- 𝑓 es la función de activación.\n",
    "- 𝑦 es el vector de salida."
   ]
  },
  {
   "cell_type": "markdown",
   "metadata": {},
   "source": [
    "#### Matemáticas detrás de la capa densa"
   ]
  },
  {
   "cell_type": "markdown",
   "metadata": {},
   "source": [
    "1. **Multiplicación de matrices**:\n",
    "\n",
    "    La capa densa realiza una multiplicación de matrices entre la matriz de pesos 𝑊 y el vector de entrada 𝑥:\n",
    "\n",
    "    𝑧=𝑊𝑥\n",
    "2. **Adición del sesgo**:\n",
    "\n",
    "    Se suma el vector de sesgo 𝑏 al resultado de la multiplicación de matrices:\n",
    "\n",
    "    𝑧=𝑊𝑥+𝑏\n",
    "\n",
    "3. **Aplicación de la función de activación**:\n",
    "\n",
    "    Se aplica una función de activación 𝑓 al resultado para introducir no linealidad en la red:\n",
    "\n",
    "    𝑦=𝑓(𝑧)"
   ]
  },
  {
   "cell_type": "markdown",
   "metadata": {},
   "source": [
    "### Ejemplo con PyTorch\n"
   ]
  },
  {
   "cell_type": "code",
   "execution_count": 1,
   "metadata": {},
   "outputs": [
    {
     "name": "stdout",
     "output_type": "stream",
     "text": [
      "Shape de la entrada: torch.Size([8, 784])\")\n",
      "----------\n",
      "Shape de la salida fc1: 128\")\n",
      "----------\n",
      "Shape de la salida fc2: 10\")\n",
      "----------\n",
      "Shape de la salida: torch.Size([8, 10])\n"
     ]
    }
   ],
   "source": [
    "import torch\n",
    "import torch.nn as nn\n",
    "\n",
    "class SimpleNN(nn.Module):\n",
    "    def __init__(self):\n",
    "        super(SimpleNN, self).__init__()\n",
    "        \n",
    "        #####################################\n",
    "        # Una capa completamente conectada (densa)\n",
    "        self.fc1 = nn.Linear(in_features=784, out_features=128)  # Suponiendo que la entrada es un vector de tamaño 784\n",
    "        #####################################\n",
    "        \n",
    "        #####################################\n",
    "        # Otra capa completamente conectada (densa)\n",
    "        self.fc2 = nn.Linear(in_features=128, out_features=10)   # Para una salida de 10 clases\n",
    "        #####################################\n",
    "        \n",
    "    def forward(self, x):\n",
    "        x = self.fc1(x)\n",
    "        x = torch.relu(x)  \n",
    "        x = self.fc2(x)\n",
    "        return x\n",
    "\n",
    "\n",
    "model = SimpleNN()\n",
    "\n",
    "input_data = torch.randn(8, 784)\n",
    "\n",
    "output = model(input_data)\n",
    "\n",
    "print(f\"\"\"Shape de la entrada: {input_data.shape}\")\n",
    "----------\n",
    "Shape de la salida fc1: {model.fc1.out_features}\")\n",
    "----------\n",
    "Shape de la salida fc2: {model.fc2.out_features}\")\n",
    "----------\n",
    "Shape de la salida: {output.shape}\"\"\")\n"
   ]
  },
  {
   "cell_type": "markdown",
   "metadata": {},
   "source": [
    "### Opciones y Parámetros"
   ]
  },
  {
   "cell_type": "markdown",
   "metadata": {},
   "source": [
    "La capa densa en PyTorch (*nn.Linear*) tiene dos parámetros principales:\n",
    "\n",
    "***in_features***: Número de características en la entrada.\n",
    "***out_features***: Número de características en la salida.\n",
    "\n",
    "Además, se puede especificar si se desea usar un sesgo (*bias*) mediante el parámetro bias (por defecto es *True*)."
   ]
  }
 ],
 "metadata": {
  "kernelspec": {
   "display_name": ".venv",
   "language": "python",
   "name": "python3"
  },
  "language_info": {
   "codemirror_mode": {
    "name": "ipython",
    "version": 3
   },
   "file_extension": ".py",
   "mimetype": "text/x-python",
   "name": "python",
   "nbconvert_exporter": "python",
   "pygments_lexer": "ipython3",
   "version": "3.11.9"
  }
 },
 "nbformat": 4,
 "nbformat_minor": 2
}
