{
 "cells": [
  {
   "cell_type": "markdown",
   "metadata": {},
   "source": [
    "# Capas Flatten"
   ]
  },
  {
   "cell_type": "markdown",
   "metadata": {},
   "source": [
    "La capa Flatten es una capa muy utilizada en arquitecturas de redes neuronales profundas, especialmente en redes convolucionales (CNNs). Su función principal es convertir una matriz de entrada multi-dimensional en un vector unidimensional. Esta transformación es necesaria antes de pasar la salida de capas convolucionales a capas completamente conectadas (fully connected)."
   ]
  },
  {
   "cell_type": "markdown",
   "metadata": {},
   "source": [
    "### ¿Qué hace la capa Flatten?"
   ]
  },
  {
   "cell_type": "markdown",
   "metadata": {},
   "source": [
    "La capa Flatten toma una entrada con múltiples dimensiones (por ejemplo, una imagen con dimensiones de altura, anchura y canales) y la convierte en una sola dimensión. Esto es crucial para que la información pueda ser procesada por capas densas que esperan vectores de una dimensión fija."
   ]
  },
  {
   "cell_type": "markdown",
   "metadata": {},
   "source": [
    "#### Matemáticas detrás de la capa Flatten"
   ]
  },
  {
   "cell_type": "markdown",
   "metadata": {},
   "source": [
    "Supongamos que la entrada a la capa Flatten es un tensor de cuatro dimensiones con tamaño \n",
    "(𝑁,𝐶,𝐻,𝑊), donde:\n",
    "- 𝑁 es el tamaño del mini-batch (número de muestras en el batch).\n",
    "- 𝐶 es el número de canales (por ejemplo, en una imagen RGB, 𝐶 = 3).\n",
    "- 𝐻 es la altura de la imagen.\n",
    "- 𝑊 es la anchura de la imagen.\n",
    "\n",
    "La capa Flatten transforma esta entrada en un tensor de dos dimensiones con tamaño (𝑁,𝐶,𝐻,𝑊)"
   ]
  },
  {
   "cell_type": "markdown",
   "metadata": {},
   "source": [
    "##### Fórmula de la transformación:"
   ]
  },
  {
   "cell_type": "markdown",
   "metadata": {},
   "source": [
    "Si el tensor de entrada es 𝑋 con dimensiones \n",
    "(𝑁,𝐶,𝐻,𝑊), \n",
    "el tensor de salida 𝑌 tendrá dimensiones \n",
    "(𝑁,𝐶⋅𝐻⋅𝑊).\n",
    "\n",
    "Matemáticamente, si denotamos a \n",
    "𝑋[𝑖,𝑗,𝑘,𝑙]\n",
    "como el elemento en la posición \n",
    "(𝑖,𝑗,𝑘,𝑙)\n",
    "del tensor de entrada, el elemento correspondiente en el tensor de salida 𝑌 estará en la posición \n",
    "(𝑖,𝑗⋅𝐻⋅𝑊+𝑘⋅𝑊+𝑙)\n"
   ]
  },
  {
   "cell_type": "markdown",
   "metadata": {},
   "source": [
    "### Ejemplo con PyTorch\n"
   ]
  },
  {
   "cell_type": "code",
   "execution_count": 1,
   "metadata": {},
   "outputs": [
    {
     "name": "stdout",
     "output_type": "stream",
     "text": [
      "Shape de la entrada: torch.Size([8, 3, 32, 32])\")\n",
      "----------\n",
      "Shape de la entrada flatten: [16, 32, 32]\")\n",
      "----------\n",
      "Shape de la salida flatten: 16384\")\n",
      "----------\n",
      "Shape de la salida después de la capa Flatten: torch.Size([8, 10])\n"
     ]
    }
   ],
   "source": [
    "import torch\n",
    "import torch.nn as nn\n",
    "\n",
    "class SimpleCNN(nn.Module):\n",
    "    def __init__(self):\n",
    "        super(SimpleCNN, self).__init__()\n",
    "        self.conv1 = nn.Conv2d(in_channels=3, out_channels=16, kernel_size=3, stride=1, padding=1)\n",
    "        \n",
    "        #####################################\n",
    "        self.flatten = nn.Flatten() # La capa Flatten\n",
    "        #####################################\n",
    "        \n",
    "        self.fc1 = nn.Linear(in_features=16*32*32, out_features=10) \n",
    "\n",
    "    def forward(self, x):\n",
    "        x = self.conv1(x)\n",
    "        x = torch.relu(x)\n",
    "        x = self.flatten(x)\n",
    "        x = self.fc1(x)\n",
    "        return x\n",
    "\n",
    "model = SimpleCNN()\n",
    "\n",
    "input_data = torch.randn(8, 3, 32, 32)\n",
    "\n",
    "output = model(input_data)\n",
    "\n",
    "print(f\"\"\"Shape de la entrada: {input_data.shape}\")\n",
    "----------\n",
    "Shape de la entrada flatten: [{model.conv1.out_channels}, {input_data.shape[2]}, {input_data.shape[3]}]\")\n",
    "----------\n",
    "Shape de la salida flatten: {16*32*32}\")\n",
    "----------\n",
    "Shape de la salida después de la capa Flatten: {output.shape}\"\"\")"
   ]
  },
  {
   "cell_type": "markdown",
   "metadata": {},
   "source": [
    "### Opciones y Parámetros"
   ]
  },
  {
   "cell_type": "markdown",
   "metadata": {},
   "source": [
    "La capa Flatten en PyTorch es bastante simple y no tiene parámetros ajustables. Su única tarea es convertir la entrada a un vector unidimensional."
   ]
  }
 ],
 "metadata": {
  "kernelspec": {
   "display_name": ".venv",
   "language": "python",
   "name": "python3"
  },
  "language_info": {
   "codemirror_mode": {
    "name": "ipython",
    "version": 3
   },
   "file_extension": ".py",
   "mimetype": "text/x-python",
   "name": "python",
   "nbconvert_exporter": "python",
   "pygments_lexer": "ipython3",
   "version": "3.11.9"
  }
 },
 "nbformat": 4,
 "nbformat_minor": 2
}
