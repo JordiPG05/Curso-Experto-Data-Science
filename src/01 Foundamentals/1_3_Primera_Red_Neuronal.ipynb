{
 "cells": [
  {
   "cell_type": "markdown",
   "metadata": {},
   "source": [
    "# Primera red neuronal"
   ]
  },
  {
   "cell_type": "markdown",
   "metadata": {},
   "source": [
    "Una red neuronal, es una arquitectura de varias capas/módulos que realizan operaciones con los datos.\n",
    "En PyTorch se utilizan la *torch.nn*, el comopente báse para construir una red neuronal.\n",
    "Cada módulo se subclassifica con *nn.Module*.\n",
    "Una red neuronal en PyTorch trata de un módulo *nn.Module* que dentro contiene componentes *torch.nn*, por ejemplo ***nn.Linear***\n",
    "\n",
    "Esta estructura anidada permite construir y gestionar arquitecturas complejas fácilmente."
   ]
  },
  {
   "cell_type": "markdown",
   "metadata": {},
   "source": [
    "#### Importaciones y Cuda"
   ]
  },
  {
   "cell_type": "code",
   "execution_count": 1,
   "metadata": {},
   "outputs": [],
   "source": [
    "# Importar librerias\n",
    "import os\n",
    "import torch\n",
    "from torch import nn\n",
    "from torch.utils.data import DataLoader\n",
    "from torchvision import datasets, transforms"
   ]
  },
  {
   "cell_type": "code",
   "execution_count": 2,
   "metadata": {},
   "outputs": [
    {
     "name": "stdout",
     "output_type": "stream",
     "text": [
      "Usando el servicio: cuda\n"
     ]
    }
   ],
   "source": [
    "# Activar Cuda\n",
    "device = (\n",
    "    \"cuda\"\n",
    "    if torch.cuda.is_available()\n",
    "    else \"mps\"\n",
    "    if torch.backends.mps.is_available()\n",
    "    else \"cpu\"\n",
    ")\n",
    "print(f\"Usando el servicio: {device}\")"
   ]
  },
  {
   "cell_type": "markdown",
   "metadata": {},
   "source": [
    "#### Constuyendo la red"
   ]
  },
  {
   "cell_type": "markdown",
   "metadata": {},
   "source": [
    "El primer paso es crear una subclase del modulo *nn.Module* e inicializar las capas que queramos en el *__init __*\n",
    "Cada clase *nn.Module* implementa las operaciones sobre los datos de entrada en el método *forward*."
   ]
  },
  {
   "cell_type": "code",
   "execution_count": 3,
   "metadata": {},
   "outputs": [],
   "source": [
    "class NeuralNetwork(nn.Module): # Hereda de la clase nn.Module\n",
    "    def __init__(self):\n",
    "        super().__init__() # Llamada al constructor de la clase padre\n",
    "        self.flatten = nn.Flatten() # Convierte la imagen 28x28 en un vector de 784 elementos\n",
    "        self.linear_relu_stack = nn.Sequential( # Crea una secuencia de capas lineales y relu\n",
    "            nn.Linear(28*28, 512), # Capa lineal densa de 28x28 elementos a 512 elementos (input)\n",
    "            nn.ReLU(), # Función de activación ReLU\n",
    "            nn.Linear(512, 512), # Capa lineal densa\n",
    "            nn.ReLU(), # Función de activación ReLU\n",
    "            nn.Linear(512, 10), # Capa lineal densa (output)\n",
    "        )\n",
    "\n",
    "    def forward(self, x): \n",
    "        x = self.flatten(x) # Aplicar capa  \n",
    "        logits = self.linear_relu_stack(x) # Aplicar secuencia capa\n",
    "        return logits"
   ]
  },
  {
   "cell_type": "markdown",
   "metadata": {},
   "source": [
    "Ahora creamos la instancia de la clase *NeuralNetwork* y le indicamos que se ejecute en el device seleccionado."
   ]
  },
  {
   "cell_type": "code",
   "execution_count": 4,
   "metadata": {},
   "outputs": [
    {
     "name": "stdout",
     "output_type": "stream",
     "text": [
      "NeuralNetwork(\n",
      "  (flatten): Flatten(start_dim=1, end_dim=-1)\n",
      "  (linear_relu_stack): Sequential(\n",
      "    (0): Linear(in_features=784, out_features=512, bias=True)\n",
      "    (1): ReLU()\n",
      "    (2): Linear(in_features=512, out_features=512, bias=True)\n",
      "    (3): ReLU()\n",
      "    (4): Linear(in_features=512, out_features=10, bias=True)\n",
      "  )\n",
      ")\n"
     ]
    }
   ],
   "source": [
    "model = NeuralNetwork().to(device) # Crea la red y la pasa al dispositivo\n",
    "print(model)"
   ]
  },
  {
   "cell_type": "markdown",
   "metadata": {},
   "source": [
    "Cone sto, ya tendremos el modelo creado en la variable *model*. Para ejecutarlo,  **NO utilizamos el método *forward***, para ejecutarlo, utilizamos directamente la variable *model*, pasandole como parametro los datos de entrada."
   ]
  },
  {
   "cell_type": "code",
   "execution_count": 7,
   "metadata": {},
   "outputs": [
    {
     "name": "stdout",
     "output_type": "stream",
     "text": [
      "Predicted class: tensor([9], device='cuda:0')\n"
     ]
    }
   ],
   "source": [
    "X = torch.rand(1, 28, 28, device=device) # Crea un tensor aleatorio de 28x28 elementos\n",
    "logits = model(X) # Calcula las probabilidades de las clases (Ejecutar el modelo)\n",
    "pred_probab = nn.Softmax(dim=1)(logits) # Calcula la probabilidad de la clase\n",
    "y_pred = pred_probab.argmax(1) # Obtiene la clase con la probabilidad mas alta\n",
    "print(f\"Predicted class: {y_pred}\") # Imprime la clase predicha"
   ]
  },
  {
   "cell_type": "markdown",
   "metadata": {},
   "source": [
    "#### Ver parámetros del modelo"
   ]
  },
  {
   "cell_type": "markdown",
   "metadata": {},
   "source": [
    "Aun que todavía no conocemos los detalles internos del modelo, podemos visualizar los parametros internos con el método *parameters()* o *named_parameters()*"
   ]
  },
  {
   "cell_type": "code",
   "execution_count": 13,
   "metadata": {},
   "outputs": [
    {
     "name": "stdout",
     "output_type": "stream",
     "text": [
      "Model structure: NeuralNetwork(\n",
      "  (flatten): Flatten(start_dim=1, end_dim=-1)\n",
      "  (linear_relu_stack): Sequential(\n",
      "    (0): Linear(in_features=784, out_features=512, bias=True)\n",
      "    (1): ReLU()\n",
      "    (2): Linear(in_features=512, out_features=512, bias=True)\n",
      "    (3): ReLU()\n",
      "    (4): Linear(in_features=512, out_features=10, bias=True)\n",
      "  )\n",
      ")\n",
      "\n",
      "\n",
      "Layer: linear_relu_stack.0.weight | Size: torch.Size([512, 784]) | Values : tensor([[ 0.0032,  0.0327, -0.0321,  ..., -0.0317, -0.0034, -0.0061],\n",
      "        [-0.0047, -0.0036,  0.0021,  ..., -0.0208,  0.0280,  0.0140]],\n",
      "       device='cuda:0', grad_fn=<SliceBackward0>) \n",
      "\n",
      "Layer: linear_relu_stack.0.bias | Size: torch.Size([512]) | Values : tensor([0.0293, 0.0254], device='cuda:0', grad_fn=<SliceBackward0>) \n",
      "\n",
      "Layer: linear_relu_stack.2.weight | Size: torch.Size([512, 512]) | Values : tensor([[-0.0295,  0.0231,  0.0059,  ...,  0.0147, -0.0359,  0.0173],\n",
      "        [ 0.0441,  0.0224, -0.0010,  ...,  0.0359, -0.0034, -0.0375]],\n",
      "       device='cuda:0', grad_fn=<SliceBackward0>) \n",
      "\n",
      "Layer: linear_relu_stack.2.bias | Size: torch.Size([512]) | Values : tensor([0.0430, 0.0149], device='cuda:0', grad_fn=<SliceBackward0>) \n",
      "\n",
      "Layer: linear_relu_stack.4.weight | Size: torch.Size([10, 512]) | Values : tensor([[ 0.0106,  0.0094,  0.0262,  ...,  0.0426,  0.0145, -0.0217],\n",
      "        [ 0.0404,  0.0346, -0.0225,  ...,  0.0289, -0.0092,  0.0127]],\n",
      "       device='cuda:0', grad_fn=<SliceBackward0>) \n",
      "\n",
      "Layer: linear_relu_stack.4.bias | Size: torch.Size([10]) | Values : tensor([-0.0346,  0.0199], device='cuda:0', grad_fn=<SliceBackward0>) \n",
      "\n"
     ]
    }
   ],
   "source": [
    "print(f\"Model structure: {model}\\n\\n\") # Imprime la estructura de la red\n",
    "\n",
    "for name, param in model.named_parameters(): # Imprime los nombres y valores de los parametros\n",
    "    print(f\"Layer: {name} | Size: {param.size()} | Values : {param[:2]} \\n\")"
   ]
  }
 ],
 "metadata": {
  "kernelspec": {
   "display_name": ".venv",
   "language": "python",
   "name": "python3"
  },
  "language_info": {
   "codemirror_mode": {
    "name": "ipython",
    "version": 3
   },
   "file_extension": ".py",
   "mimetype": "text/x-python",
   "name": "python",
   "nbconvert_exporter": "python",
   "pygments_lexer": "ipython3",
   "version": "3.11.9"
  }
 },
 "nbformat": 4,
 "nbformat_minor": 2
}
